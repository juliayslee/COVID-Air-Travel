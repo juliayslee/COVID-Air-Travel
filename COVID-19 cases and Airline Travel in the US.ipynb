{
 "cells": [
  {
   "cell_type": "code",
   "execution_count": 475,
   "metadata": {},
   "outputs": [],
   "source": [
    "import pandas as pd\n",
    "import numpy as np\n",
    "import matplotlib.pyplot as plt\n",
    "import seaborn as sns\n",
    "\n",
    "%matplotlib inline"
   ]
  },
  {
   "cell_type": "markdown",
   "metadata": {},
   "source": [
    "The data used in this analysis is provided by [TSA]('https://www.tsa.gov/coronavirus/passenger-throughput') for daily flight passengers, and [Our World in Data]('https://ourworldindata.org/coronavirus') for all COVID-19 coronavirus confirmed cases by location. "
   ]
  },
  {
   "cell_type": "code",
   "execution_count": 476,
   "metadata": {
    "scrolled": true
   },
   "outputs": [],
   "source": [
    "df = pd.read_csv('owid-covid-data.csv') #read in COVID data\n",
    "\n",
    "usa = df[df['location'] == 'United States'] #looking at US data to match TSA daily flight data\n",
    "usa.reset_index(inplace=True, drop=True)"
   ]
  },
  {
   "cell_type": "code",
   "execution_count": 477,
   "metadata": {},
   "outputs": [],
   "source": [
    "usa = usa[['date', 'location', 'total_cases']] #only really care about total cases"
   ]
  },
  {
   "cell_type": "code",
   "execution_count": 478,
   "metadata": {},
   "outputs": [
    {
     "data": {
      "text/html": [
       "<div>\n",
       "<style scoped>\n",
       "    .dataframe tbody tr th:only-of-type {\n",
       "        vertical-align: middle;\n",
       "    }\n",
       "\n",
       "    .dataframe tbody tr th {\n",
       "        vertical-align: top;\n",
       "    }\n",
       "\n",
       "    .dataframe thead th {\n",
       "        text-align: right;\n",
       "    }\n",
       "</style>\n",
       "<table border=\"1\" class=\"dataframe\">\n",
       "  <thead>\n",
       "    <tr style=\"text-align: right;\">\n",
       "      <th></th>\n",
       "      <th>date</th>\n",
       "      <th>location</th>\n",
       "      <th>total_cases</th>\n",
       "    </tr>\n",
       "  </thead>\n",
       "  <tbody>\n",
       "    <tr>\n",
       "      <th>0</th>\n",
       "      <td>2019-12-31</td>\n",
       "      <td>United States</td>\n",
       "      <td>0.0</td>\n",
       "    </tr>\n",
       "    <tr>\n",
       "      <th>1</th>\n",
       "      <td>2020-01-01</td>\n",
       "      <td>United States</td>\n",
       "      <td>0.0</td>\n",
       "    </tr>\n",
       "    <tr>\n",
       "      <th>2</th>\n",
       "      <td>2020-01-02</td>\n",
       "      <td>United States</td>\n",
       "      <td>0.0</td>\n",
       "    </tr>\n",
       "    <tr>\n",
       "      <th>3</th>\n",
       "      <td>2020-01-03</td>\n",
       "      <td>United States</td>\n",
       "      <td>0.0</td>\n",
       "    </tr>\n",
       "    <tr>\n",
       "      <th>4</th>\n",
       "      <td>2020-01-04</td>\n",
       "      <td>United States</td>\n",
       "      <td>0.0</td>\n",
       "    </tr>\n",
       "  </tbody>\n",
       "</table>\n",
       "</div>"
      ],
      "text/plain": [
       "         date       location  total_cases\n",
       "0  2019-12-31  United States          0.0\n",
       "1  2020-01-01  United States          0.0\n",
       "2  2020-01-02  United States          0.0\n",
       "3  2020-01-03  United States          0.0\n",
       "4  2020-01-04  United States          0.0"
      ]
     },
     "execution_count": 478,
     "metadata": {},
     "output_type": "execute_result"
    }
   ],
   "source": [
    "usa.head() "
   ]
  },
  {
   "cell_type": "code",
   "execution_count": 479,
   "metadata": {},
   "outputs": [],
   "source": [
    "# Libraries to parse html table from TSA webpage\n",
    "import requests\n",
    "import lxml.html as lh "
   ]
  },
  {
   "cell_type": "code",
   "execution_count": 480,
   "metadata": {},
   "outputs": [],
   "source": [
    "url='https://www.tsa.gov/coronavirus/passenger-throughput'\n",
    "#Create a handle, page, to handle the contents of the website\n",
    "page = requests.get(url)\n",
    "#Store the contents of the website under doc\n",
    "doc = lh.fromstring(page.content)\n",
    "#Parse data that are stored between <tr>..</tr> of HTML\n",
    "tr_elements = doc.xpath('//tr')"
   ]
  },
  {
   "cell_type": "code",
   "execution_count": 481,
   "metadata": {},
   "outputs": [
    {
     "name": "stdout",
     "output_type": "stream",
     "text": [
      "1:Date\n",
      "2:Total Traveler Throughput\n",
      "3:Total Traveler Throughput\n",
      "\t\t\t(1 Year Ago - Same Weekday)\n"
     ]
    }
   ],
   "source": [
    "tr_elements = doc.xpath('//tr')\n",
    "#Create empty list\n",
    "col=[]\n",
    "i=0\n",
    "#For each row, store each first element (header) and an empty list\n",
    "for t in tr_elements[0]:\n",
    "    i+=1\n",
    "    name=t.text_content()\n",
    "    print ('%d:%s'%(i,name))\n",
    "    col.append((name,[]))"
   ]
  },
  {
   "cell_type": "code",
   "execution_count": 482,
   "metadata": {},
   "outputs": [],
   "source": [
    "#Since out first row is the header, data is stored on the second row onwards\n",
    "for j in range(1,len(tr_elements)):\n",
    "    T=tr_elements[j]\n",
    "    i=0\n",
    "    #Iterate through each element of the row\n",
    "    for t in T.iterchildren():\n",
    "        data=t.text_content() \n",
    "        #Check if row is empty\n",
    "        if i>0:\n",
    "        #Convert any numerical value to integers\n",
    "            try:\n",
    "                data=int(data)\n",
    "            except:\n",
    "                pass\n",
    "        #Append the data to the empty list of the i'th column\n",
    "        col[i][1].append(data)\n",
    "        #Increment i for the next column\n",
    "        i+=1"
   ]
  },
  {
   "cell_type": "code",
   "execution_count": 483,
   "metadata": {},
   "outputs": [],
   "source": [
    "Dict = {title:column for (title,column) in col}\n",
    "tsa = pd.DataFrame(Dict)"
   ]
  },
  {
   "cell_type": "code",
   "execution_count": 484,
   "metadata": {},
   "outputs": [],
   "source": [
    "tsa = tsa.iloc[::-1] #reverse order of rows to match usa\n",
    "\n",
    "tsa.head()\n",
    "\n",
    "tsa = tsa.reset_index(drop=True)"
   ]
  },
  {
   "cell_type": "code",
   "execution_count": 485,
   "metadata": {},
   "outputs": [
    {
     "data": {
      "text/html": [
       "<div>\n",
       "<style scoped>\n",
       "    .dataframe tbody tr th:only-of-type {\n",
       "        vertical-align: middle;\n",
       "    }\n",
       "\n",
       "    .dataframe tbody tr th {\n",
       "        vertical-align: top;\n",
       "    }\n",
       "\n",
       "    .dataframe thead th {\n",
       "        text-align: right;\n",
       "    }\n",
       "</style>\n",
       "<table border=\"1\" class=\"dataframe\">\n",
       "  <thead>\n",
       "    <tr style=\"text-align: right;\">\n",
       "      <th></th>\n",
       "      <th>Date</th>\n",
       "      <th>Total Traveler Throughput</th>\n",
       "      <th>Total Traveler Throughput\\n\\t\\t\\t(1 Year Ago - Same Weekday)</th>\n",
       "    </tr>\n",
       "  </thead>\n",
       "  <tbody>\n",
       "    <tr>\n",
       "      <th>0</th>\n",
       "      <td>3/1/2020</td>\n",
       "      <td>2,280,522</td>\n",
       "      <td>2,301,439</td>\n",
       "    </tr>\n",
       "    <tr>\n",
       "      <th>1</th>\n",
       "      <td>3/2/2020</td>\n",
       "      <td>2,089,641</td>\n",
       "      <td>2,257,920</td>\n",
       "    </tr>\n",
       "    <tr>\n",
       "      <th>2</th>\n",
       "      <td>3/3/2020</td>\n",
       "      <td>1,736,393</td>\n",
       "      <td>1,979,558</td>\n",
       "    </tr>\n",
       "    <tr>\n",
       "      <th>3</th>\n",
       "      <td>3/4/2020</td>\n",
       "      <td>1,877,401</td>\n",
       "      <td>2,143,619</td>\n",
       "    </tr>\n",
       "    <tr>\n",
       "      <th>4</th>\n",
       "      <td>3/5/2020</td>\n",
       "      <td>2,130,015</td>\n",
       "      <td>2,402,692</td>\n",
       "    </tr>\n",
       "    <tr>\n",
       "      <th>...</th>\n",
       "      <td>...</td>\n",
       "      <td>...</td>\n",
       "      <td>...</td>\n",
       "    </tr>\n",
       "    <tr>\n",
       "      <th>137</th>\n",
       "      <td>7/16/2020</td>\n",
       "      <td>706,164</td>\n",
       "      <td>2,716,828</td>\n",
       "    </tr>\n",
       "    <tr>\n",
       "      <th>138</th>\n",
       "      <td>7/17/2020</td>\n",
       "      <td>720,378</td>\n",
       "      <td>2,776,960</td>\n",
       "    </tr>\n",
       "    <tr>\n",
       "      <th>139</th>\n",
       "      <td>7/18/2020</td>\n",
       "      <td>646,654</td>\n",
       "      <td>2,396,462</td>\n",
       "    </tr>\n",
       "    <tr>\n",
       "      <th>140</th>\n",
       "      <td>7/19/2020</td>\n",
       "      <td>747,422</td>\n",
       "      <td>2,727,355</td>\n",
       "    </tr>\n",
       "    <tr>\n",
       "      <th>141</th>\n",
       "      <td>7/20/2020</td>\n",
       "      <td>695,330</td>\n",
       "      <td>2,635,312</td>\n",
       "    </tr>\n",
       "  </tbody>\n",
       "</table>\n",
       "<p>142 rows × 3 columns</p>\n",
       "</div>"
      ],
      "text/plain": [
       "          Date Total Traveler Throughput  \\\n",
       "0     3/1/2020                 2,280,522   \n",
       "1     3/2/2020                 2,089,641   \n",
       "2     3/3/2020                 1,736,393   \n",
       "3     3/4/2020                 1,877,401   \n",
       "4     3/5/2020                 2,130,015   \n",
       "..         ...                       ...   \n",
       "137  7/16/2020                   706,164   \n",
       "138  7/17/2020                   720,378   \n",
       "139  7/18/2020                   646,654   \n",
       "140  7/19/2020                   747,422   \n",
       "141  7/20/2020                   695,330   \n",
       "\n",
       "    Total Traveler Throughput\\n\\t\\t\\t(1 Year Ago - Same Weekday)  \n",
       "0                                            2,301,439            \n",
       "1                                            2,257,920            \n",
       "2                                            1,979,558            \n",
       "3                                            2,143,619            \n",
       "4                                            2,402,692            \n",
       "..                                                 ...            \n",
       "137                                          2,716,828            \n",
       "138                                          2,776,960            \n",
       "139                                          2,396,462            \n",
       "140                                          2,727,355            \n",
       "141                                          2,635,312            \n",
       "\n",
       "[142 rows x 3 columns]"
      ]
     },
     "execution_count": 485,
     "metadata": {},
     "output_type": "execute_result"
    }
   ],
   "source": [
    "tsa"
   ]
  },
  {
   "cell_type": "code",
   "execution_count": 486,
   "metadata": {},
   "outputs": [],
   "source": [
    "#Drop rows before 3/1/2020 in usa dataset\n",
    "# usa.reset_index(inplace=True)"
   ]
  },
  {
   "cell_type": "code",
   "execution_count": 487,
   "metadata": {},
   "outputs": [
    {
     "data": {
      "text/html": [
       "<div>\n",
       "<style scoped>\n",
       "    .dataframe tbody tr th:only-of-type {\n",
       "        vertical-align: middle;\n",
       "    }\n",
       "\n",
       "    .dataframe tbody tr th {\n",
       "        vertical-align: top;\n",
       "    }\n",
       "\n",
       "    .dataframe thead th {\n",
       "        text-align: right;\n",
       "    }\n",
       "</style>\n",
       "<table border=\"1\" class=\"dataframe\">\n",
       "  <thead>\n",
       "    <tr style=\"text-align: right;\">\n",
       "      <th></th>\n",
       "      <th>date</th>\n",
       "      <th>location</th>\n",
       "      <th>total_cases</th>\n",
       "    </tr>\n",
       "  </thead>\n",
       "  <tbody>\n",
       "    <tr>\n",
       "      <th>61</th>\n",
       "      <td>2020-03-01</td>\n",
       "      <td>United States</td>\n",
       "      <td>69.0</td>\n",
       "    </tr>\n",
       "  </tbody>\n",
       "</table>\n",
       "</div>"
      ],
      "text/plain": [
       "          date       location  total_cases\n",
       "61  2020-03-01  United States         69.0"
      ]
     },
     "execution_count": 487,
     "metadata": {},
     "output_type": "execute_result"
    }
   ],
   "source": [
    "usa[usa['date']=='2020-03-01'] #index 61"
   ]
  },
  {
   "cell_type": "code",
   "execution_count": 488,
   "metadata": {},
   "outputs": [],
   "source": [
    "usa = usa[61:]"
   ]
  },
  {
   "cell_type": "code",
   "execution_count": 489,
   "metadata": {},
   "outputs": [],
   "source": [
    "usa = usa.reset_index(drop=True)"
   ]
  },
  {
   "cell_type": "code",
   "execution_count": 490,
   "metadata": {},
   "outputs": [],
   "source": [
    "# usa = usa.set_index('date') #set date to be index"
   ]
  },
  {
   "cell_type": "code",
   "execution_count": 491,
   "metadata": {},
   "outputs": [],
   "source": [
    "#Concatinate two dataframes together\n",
    "\n",
    "data_final = pd.concat([usa, tsa], axis=1)"
   ]
  },
  {
   "cell_type": "code",
   "execution_count": 492,
   "metadata": {},
   "outputs": [
    {
     "data": {
      "text/html": [
       "<div>\n",
       "<style scoped>\n",
       "    .dataframe tbody tr th:only-of-type {\n",
       "        vertical-align: middle;\n",
       "    }\n",
       "\n",
       "    .dataframe tbody tr th {\n",
       "        vertical-align: top;\n",
       "    }\n",
       "\n",
       "    .dataframe thead th {\n",
       "        text-align: right;\n",
       "    }\n",
       "</style>\n",
       "<table border=\"1\" class=\"dataframe\">\n",
       "  <thead>\n",
       "    <tr style=\"text-align: right;\">\n",
       "      <th></th>\n",
       "      <th>date</th>\n",
       "      <th>location</th>\n",
       "      <th>total_cases</th>\n",
       "      <th>Date</th>\n",
       "      <th>Total Traveler Throughput</th>\n",
       "      <th>Total Traveler Throughput\\n\\t\\t\\t(1 Year Ago - Same Weekday)</th>\n",
       "    </tr>\n",
       "  </thead>\n",
       "  <tbody>\n",
       "    <tr>\n",
       "      <th>0</th>\n",
       "      <td>2020-03-01</td>\n",
       "      <td>United States</td>\n",
       "      <td>69.0</td>\n",
       "      <td>3/1/2020</td>\n",
       "      <td>2,280,522</td>\n",
       "      <td>2,301,439</td>\n",
       "    </tr>\n",
       "    <tr>\n",
       "      <th>1</th>\n",
       "      <td>2020-03-02</td>\n",
       "      <td>United States</td>\n",
       "      <td>89.0</td>\n",
       "      <td>3/2/2020</td>\n",
       "      <td>2,089,641</td>\n",
       "      <td>2,257,920</td>\n",
       "    </tr>\n",
       "    <tr>\n",
       "      <th>2</th>\n",
       "      <td>2020-03-03</td>\n",
       "      <td>United States</td>\n",
       "      <td>103.0</td>\n",
       "      <td>3/3/2020</td>\n",
       "      <td>1,736,393</td>\n",
       "      <td>1,979,558</td>\n",
       "    </tr>\n",
       "    <tr>\n",
       "      <th>3</th>\n",
       "      <td>2020-03-04</td>\n",
       "      <td>United States</td>\n",
       "      <td>125.0</td>\n",
       "      <td>3/4/2020</td>\n",
       "      <td>1,877,401</td>\n",
       "      <td>2,143,619</td>\n",
       "    </tr>\n",
       "    <tr>\n",
       "      <th>4</th>\n",
       "      <td>2020-03-05</td>\n",
       "      <td>United States</td>\n",
       "      <td>159.0</td>\n",
       "      <td>3/5/2020</td>\n",
       "      <td>2,130,015</td>\n",
       "      <td>2,402,692</td>\n",
       "    </tr>\n",
       "    <tr>\n",
       "      <th>...</th>\n",
       "      <td>...</td>\n",
       "      <td>...</td>\n",
       "      <td>...</td>\n",
       "      <td>...</td>\n",
       "      <td>...</td>\n",
       "      <td>...</td>\n",
       "    </tr>\n",
       "    <tr>\n",
       "      <th>138</th>\n",
       "      <td>2020-07-17</td>\n",
       "      <td>United States</td>\n",
       "      <td>3576221.0</td>\n",
       "      <td>7/17/2020</td>\n",
       "      <td>720,378</td>\n",
       "      <td>2,776,960</td>\n",
       "    </tr>\n",
       "    <tr>\n",
       "      <th>139</th>\n",
       "      <td>2020-07-18</td>\n",
       "      <td>United States</td>\n",
       "      <td>3647715.0</td>\n",
       "      <td>7/18/2020</td>\n",
       "      <td>646,654</td>\n",
       "      <td>2,396,462</td>\n",
       "    </tr>\n",
       "    <tr>\n",
       "      <th>140</th>\n",
       "      <td>2020-07-19</td>\n",
       "      <td>United States</td>\n",
       "      <td>3711464.0</td>\n",
       "      <td>7/19/2020</td>\n",
       "      <td>747,422</td>\n",
       "      <td>2,727,355</td>\n",
       "    </tr>\n",
       "    <tr>\n",
       "      <th>141</th>\n",
       "      <td>2020-07-20</td>\n",
       "      <td>United States</td>\n",
       "      <td>3773260.0</td>\n",
       "      <td>7/20/2020</td>\n",
       "      <td>695,330</td>\n",
       "      <td>2,635,312</td>\n",
       "    </tr>\n",
       "    <tr>\n",
       "      <th>142</th>\n",
       "      <td>2020-07-21</td>\n",
       "      <td>United States</td>\n",
       "      <td>3830010.0</td>\n",
       "      <td>NaN</td>\n",
       "      <td>NaN</td>\n",
       "      <td>NaN</td>\n",
       "    </tr>\n",
       "  </tbody>\n",
       "</table>\n",
       "<p>143 rows × 6 columns</p>\n",
       "</div>"
      ],
      "text/plain": [
       "           date       location  total_cases       Date  \\\n",
       "0    2020-03-01  United States         69.0   3/1/2020   \n",
       "1    2020-03-02  United States         89.0   3/2/2020   \n",
       "2    2020-03-03  United States        103.0   3/3/2020   \n",
       "3    2020-03-04  United States        125.0   3/4/2020   \n",
       "4    2020-03-05  United States        159.0   3/5/2020   \n",
       "..          ...            ...          ...        ...   \n",
       "138  2020-07-17  United States    3576221.0  7/17/2020   \n",
       "139  2020-07-18  United States    3647715.0  7/18/2020   \n",
       "140  2020-07-19  United States    3711464.0  7/19/2020   \n",
       "141  2020-07-20  United States    3773260.0  7/20/2020   \n",
       "142  2020-07-21  United States    3830010.0        NaN   \n",
       "\n",
       "    Total Traveler Throughput  \\\n",
       "0                   2,280,522   \n",
       "1                   2,089,641   \n",
       "2                   1,736,393   \n",
       "3                   1,877,401   \n",
       "4                   2,130,015   \n",
       "..                        ...   \n",
       "138                   720,378   \n",
       "139                   646,654   \n",
       "140                   747,422   \n",
       "141                   695,330   \n",
       "142                       NaN   \n",
       "\n",
       "    Total Traveler Throughput\\n\\t\\t\\t(1 Year Ago - Same Weekday)  \n",
       "0                                            2,301,439            \n",
       "1                                            2,257,920            \n",
       "2                                            1,979,558            \n",
       "3                                            2,143,619            \n",
       "4                                            2,402,692            \n",
       "..                                                 ...            \n",
       "138                                          2,776,960            \n",
       "139                                          2,396,462            \n",
       "140                                          2,727,355            \n",
       "141                                          2,635,312            \n",
       "142                                                NaN            \n",
       "\n",
       "[143 rows x 6 columns]"
      ]
     },
     "execution_count": 492,
     "metadata": {},
     "output_type": "execute_result"
    }
   ],
   "source": [
    "data_final"
   ]
  },
  {
   "cell_type": "code",
   "execution_count": 494,
   "metadata": {},
   "outputs": [],
   "source": [
    "data_final = data_final.drop('Date', axis=1)"
   ]
  },
  {
   "cell_type": "code",
   "execution_count": null,
   "metadata": {},
   "outputs": [],
   "source": []
  }
 ],
 "metadata": {
  "kernelspec": {
   "display_name": "Python 3",
   "language": "python",
   "name": "python3"
  },
  "language_info": {
   "codemirror_mode": {
    "name": "ipython",
    "version": 3
   },
   "file_extension": ".py",
   "mimetype": "text/x-python",
   "name": "python",
   "nbconvert_exporter": "python",
   "pygments_lexer": "ipython3",
   "version": "3.7.4"
  }
 },
 "nbformat": 4,
 "nbformat_minor": 2
}
